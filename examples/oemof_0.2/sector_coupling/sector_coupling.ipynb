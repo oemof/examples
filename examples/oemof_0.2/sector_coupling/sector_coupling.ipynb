{
 "cells": [
  {
   "cell_type": "markdown",
   "metadata": {},
   "source": [
    "# Multisectoral energy system with oemof\n",
    "\n",
    "### General description:\n",
    "\n",
    "The jupyter notebook gives a simple example of how to couple the sectors power, heat and mobility.\n",
    "\n",
    "### Installation requirements:\n",
    "\n",
    "This example requires the latest oemof version and jupyter. Install by:\n",
    "\n",
    "    pip install oemof jupyter"
   ]
  },
  {
   "cell_type": "markdown",
   "metadata": {},
   "source": [
    "## Create a simple energy system"
   ]
  },
  {
   "cell_type": "markdown",
   "metadata": {},
   "source": [
    "![simple_system.png](attachment:simple_system.png)"
   ]
  },
  {
   "cell_type": "markdown",
   "metadata": {},
   "source": [
    "### Initialize energy system"
   ]
  },
  {
   "cell_type": "code",
   "execution_count": null,
   "metadata": {
    "collapsed": true
   },
   "outputs": [],
   "source": [
    "from oemof.solph import EnergySystem\n",
    "import pandas as pd\n",
    "\n",
    "# initialize energy system\n",
    "energysystem = EnergySystem(timeindex=pd.date_range('1/1/2016', \n",
    "                                                    periods=168, \n",
    "                                                    freq='H'))"
   ]
  },
  {
   "cell_type": "markdown",
   "metadata": {},
   "source": [
    "### Import input data"
   ]
  },
  {
   "cell_type": "code",
   "execution_count": null,
   "metadata": {
    "collapsed": true
   },
   "outputs": [],
   "source": [
    "# import example data with scaled demands and feedin timeseries of renewables \n",
    "# as dataframe\n",
    "data = pd.read_csv(\"data/example_data.csv\", sep=\",\", index_col='timeindex', parse_dates=['timeindex'])"
   ]
  },
  {
   "cell_type": "markdown",
   "metadata": {},
   "source": [
    "### Add entities to energy system"
   ]
  },
  {
   "cell_type": "code",
   "execution_count": null,
   "metadata": {
    "collapsed": true
   },
   "outputs": [],
   "source": [
    "from oemof.solph import Bus, Flow, Sink, Source, Transformer\n",
    "\n",
    "### BUS\n",
    "# create electricity bus\n",
    "b_el = Bus(label=\"b_el\")\n",
    "energysystem.add(b_el)\n",
    "\n",
    "# add excess sink to help avoid infeasible problems\n",
    "energysystem.add(Sink(label=\"excess_el\",\n",
    "                      inputs={b_el: Flow()}))\n",
    "energysystem.add(Source(label=\"shortage_el\",\n",
    "                        outputs={b_el: Flow(variable_costs=1000)}))\n",
    "\n",
    "### DEMAND\n",
    "# add electricity demand\n",
    "energysystem.add(Sink(label=\"demand_el\",\n",
    "                      inputs={b_el: Flow(nominal_value=85,\n",
    "                                         actual_value=data['demand_el'],\n",
    "                                         fixed=True)}))\n",
    "\n",
    "### SUPPLY\n",
    "# add wind and pv feedin\n",
    "energysystem.add(Source(label=\"wind\",\n",
    "                        outputs={b_el: Flow(actual_value=data['wind'],\n",
    "                                            nominal_value=60,\n",
    "                                            fixed=True)}))\n",
    "energysystem.add(Source(label=\"pv\",\n",
    "       outputs={b_el: Flow(actual_value=data['pv'],\n",
    "                           nominal_value=200,\n",
    "                           fixed=True)}))\n"
   ]
  },
  {
   "cell_type": "markdown",
   "metadata": {},
   "source": [
    "### Optimize energy system and plot results"
   ]
  },
  {
   "cell_type": "code",
   "execution_count": null,
   "metadata": {
    "collapsed": true
   },
   "outputs": [],
   "source": [
    "from oemof.solph import Model\n",
    "from oemof.outputlib import processing, views\n",
    "import numpy as np\n",
    "import matplotlib.pyplot as plt\n",
    "%matplotlib inline\n",
    "\n",
    "def optimize(energysystem):\n",
    "    \n",
    "    ### optimize\n",
    "    # create operational model\n",
    "    om = Model(es=energysystem)\n",
    "\n",
    "    # solve using the cbc solver\n",
    "    om.solve(solver='cbc',\n",
    "             solve_kwargs={'tee': False})\n",
    "\n",
    "    # save LP-file\n",
    "    om.write('sector_coupling.lp', io_options={'symbolic_solver_labels': True})\n",
    "\n",
    "    # generic result object\n",
    "    #results = processing.results(om=om)\n",
    "\n",
    "    return om\n",
    "\n",
    "\n",
    "def plot(om, bus_label):\n",
    "    \"\"\"\n",
    "    Plots...\n",
    "\n",
    "    Parameters\n",
    "    ----------\n",
    "    om : oemof.solph.models.OperationalModel\n",
    "    bus_label : String\n",
    "        Label of bus to be plotted.\n",
    "    \"\"\"\n",
    "    \n",
    "    #ToDo: remove this once #387 is solved\n",
    "    def get_flows_to_and_from_bus(node_results_flows):\n",
    "        \"Function to devide flows into ingoing and outgoing flows.\"\n",
    "        flows = list(node_results_flows.columns)\n",
    "        to_flows = []\n",
    "        from_flows = []\n",
    "        for flow in flows:\n",
    "            if flow[0][0] == bus_label:\n",
    "                from_flows.append(flow)\n",
    "            elif flow[0][1] == bus_label:\n",
    "                to_flows.append(flow)\n",
    "            else:\n",
    "                print(\"{} is neither from nor to bus.\".format(flow))\n",
    "        return (to_flows, from_flows)\n",
    "\n",
    "    # node_results is a dictionary keyed by 'scalars' and 'sequences'\n",
    "    # holding respective data in a pandas Series and DataFrame.\n",
    "    node_results = views.node(om.results(), bus_label)\n",
    "    node_results_flows = node_results['sequences']\n",
    "    to_flows, from_flows = get_flows_to_and_from_bus(node_results_flows)\n",
    "\n",
    "    # set up plot\n",
    "    f, (ax1, ax2) = plt.subplots(2, sharex=True, sharey=True)\n",
    "    node_results_flows[to_flows].plot(kind='bar', stacked=True, ax=ax1)\n",
    "    node_results_flows[from_flows].plot(kind='bar', stacked=True, ax=ax2)\n",
    "\n",
    "    ax1.set_title('Flows to and from {}'.format(bus_label))\n",
    "    ax1.legend(loc='upper right', bbox_to_anchor=(1.7, 1.0))\n",
    "    ax2.legend(loc='upper right', bbox_to_anchor=(1.7, 1.0))\n",
    "    ax1.set_ylabel('Power')\n",
    "    ax2.set_xlabel('Time')\n",
    "    ax2.set_ylabel('Power')\n",
    "    \n",
    "    # set x-tick-labels\n",
    "    dates = node_results_flows.index\n",
    "    tick_distance = int(len(dates) / 7) - 1\n",
    "    ax2.set_xticks(range(0, len(dates), tick_distance), minor=False)\n",
    "    ax2.set_xticklabels([item.strftime('%d-%m-%Y')\n",
    "         for item in dates.tolist()[0::tick_distance]],\n",
    "         rotation=90, minor=False)\n",
    "\n",
    "    plt.show()\n",
    "    \n",
    "om = optimize(energysystem)\n",
    "plot(om, 'b_el')"
   ]
  },
  {
   "cell_type": "markdown",
   "metadata": {},
   "source": [
    "## Adding the gas sector\n",
    "\n",
    "![gas_pp.png](attachment:gas_pp.png)\n",
    "\n",
    "In order to add a gas power plant, a gas ressource bus is needed. The gas power plant connects the gas and electricity busses and thereby couples the gas and electricity sector."
   ]
  },
  {
   "cell_type": "code",
   "execution_count": null,
   "metadata": {
    "collapsed": true
   },
   "outputs": [],
   "source": [
    "# add gas bus\n",
    "b_gas = Bus(label=\"b_gas\",\n",
    "            balanced=False)\n",
    "energysystem.add(b_gas)\n",
    "\n",
    "# add gas power plant\n",
    "energysystem.add(Transformer(label=\"pp_gas\",\n",
    "                             inputs={b_gas: Flow(summed_max_flow=200)},\n",
    "                             outputs={b_el: Flow(nominal_value=40,\n",
    "                                                 variable_costs=40)},\n",
    "                             conversion_factors={b_el: 0.50}));"
   ]
  },
  {
   "cell_type": "code",
   "execution_count": null,
   "metadata": {
    "collapsed": true
   },
   "outputs": [],
   "source": [
    "om = optimize(energysystem)\n",
    "plot(om, 'b_el')"
   ]
  },
  {
   "cell_type": "markdown",
   "metadata": {},
   "source": [
    "## Adding the heat sector\n",
    "\n",
    "![heat.png](attachment:heat.png)\n",
    "\n",
    "The heat sector is added and coupled to the electricity sector similarly to the gas sector. The same component, the LinearTransformer, is used to couple the two sectors. Only through its parametrisation it becomes a heater rod or a heat pump.\n"
   ]
  },
  {
   "cell_type": "code",
   "execution_count": null,
   "metadata": {
    "collapsed": true
   },
   "outputs": [],
   "source": [
    "# add heat bus\n",
    "b_heat = Bus(label=\"b_heat\",\n",
    "             balanced=True)\n",
    "energysystem.add(b_heat)\n",
    "\n",
    "# add heat demand\n",
    "energysystem.add(Sink(label=\"demand_th\",\n",
    "                      inputs={b_heat: Flow(nominal_value=60,\n",
    "                                           actual_value=data['demand_th'],\n",
    "                                           fixed=True)}))\n",
    "\n",
    "# add heater rod\n",
    "energysystem.add(Transformer(label=\"heater_rod\",\n",
    "                             inputs={b_el: Flow()},\n",
    "                             outputs={b_heat: Flow(variable_costs=10)},\n",
    "                             conversion_factors={b_heat: 0.98}));"
   ]
  },
  {
   "cell_type": "code",
   "execution_count": null,
   "metadata": {
    "collapsed": true
   },
   "outputs": [],
   "source": [
    "om = optimize(energysystem)\n",
    "plot(om, 'b_el')"
   ]
  },
  {
   "cell_type": "code",
   "execution_count": null,
   "metadata": {
    "collapsed": true
   },
   "outputs": [],
   "source": [
    "plot(om, 'b_heat')"
   ]
  },
  {
   "cell_type": "markdown",
   "metadata": {},
   "source": [
    "### Adding a heat pump\n",
    "\n",
    "There are different ways to model a heat pump. Here the approach of precalculating a COP and using this as a conversion factor for the LinearTransformer is used. Another approach is to use the LinearN1Transformer that has two inputs - electricity and heat from a heat source. See the solph example \"simple_dispatch\"."
   ]
  },
  {
   "cell_type": "code",
   "execution_count": null,
   "metadata": {
    "collapsed": true
   },
   "outputs": [],
   "source": [
    "# COP can be calculated beforehand, assuming the heat reservoir temperature \n",
    "# is infinite random timeseries for COP\n",
    "import numpy as np\n",
    "COP = np.random.uniform(low=3.0, high=5.0, size=(168,))\n",
    "\n",
    "# add heater rod\n",
    "#Transformer(label=\"heater_rod\",\n",
    "#            inputs={b_el: Flow()},\n",
    "#            outputs={b_heat: Flow(variable_costs=10)},\n",
    "#            conversion_factors={b_heat: 0.98});\n",
    "\n",
    "# add heat pump\n",
    "energysystem.add(Transformer(label=\"heat_pump\",\n",
    "                             inputs={b_el: Flow()},\n",
    "                             outputs={b_heat: Flow(nominal_value=20,\n",
    "                                                   variable_costs=10)},\n",
    "                             conversion_factors={b_heat: COP}));"
   ]
  },
  {
   "cell_type": "code",
   "execution_count": null,
   "metadata": {
    "collapsed": true
   },
   "outputs": [],
   "source": [
    "om = optimize(energysystem)\n",
    "plot(om, 'b_heat')"
   ]
  },
  {
   "cell_type": "markdown",
   "metadata": {},
   "source": [
    "### Adding a combined heat and power plant\n",
    "\n",
    "![combined_heat_and_power.png](attachment:combined_heat_and_power.png)\n",
    "\n",
    "The combined heat and power plant couples the gas, electricity and heat sector."
   ]
  },
  {
   "cell_type": "code",
   "execution_count": null,
   "metadata": {
    "collapsed": true
   },
   "outputs": [],
   "source": [
    "# add CHP with fixed ratio of heat and power (back-pressure turbine)\n",
    "energysystem.add(Transformer(label='pp_chp',\n",
    "                             inputs={b_gas: Flow()},\n",
    "                             outputs={b_el: Flow(nominal_value=30,\n",
    "                                                 variable_costs=42),\n",
    "                                      b_heat: Flow(nominal_value=40)},\n",
    "                             conversion_factors={b_el: 0.3,\n",
    "                                                 b_heat: 0.4}));"
   ]
  },
  {
   "cell_type": "code",
   "execution_count": null,
   "metadata": {
    "collapsed": true
   },
   "outputs": [],
   "source": [
    "from oemof.solph.components import ExtractionTurbineCHP\n",
    "\n",
    "# add CHP with variable ratio of heat and power (extraction turbine)\n",
    "energysystem.add(ExtractionTurbineCHP(label='pp_chp_extraction',\n",
    "                                      inputs={b_gas: Flow()},\n",
    "                                      outputs={b_el: Flow(nominal_value=30,\n",
    "                                                          variable_costs=42),\n",
    "                                               b_heat: Flow(nominal_value=40)},\n",
    "                                      conversion_factors={b_el: 0.3,\n",
    "                                                          b_heat: 0.4},\n",
    "                                      conversion_factor_full_condensation={b_el: 0.5}));"
   ]
  },
  {
   "cell_type": "code",
   "execution_count": null,
   "metadata": {
    "collapsed": true
   },
   "outputs": [],
   "source": [
    "om = optimize(energysystem)\n",
    "plot(om, 'b_el')"
   ]
  },
  {
   "cell_type": "code",
   "execution_count": null,
   "metadata": {
    "collapsed": true
   },
   "outputs": [],
   "source": [
    "om = optimize(energysystem)\n",
    "plot(om, 'b_heat')"
   ]
  },
  {
   "cell_type": "markdown",
   "metadata": {},
   "source": [
    "## Adding the mobility sector\n",
    "\n",
    "![mobility.png](attachment:mobility.png)"
   ]
  },
  {
   "cell_type": "code",
   "execution_count": null,
   "metadata": {
    "collapsed": true
   },
   "outputs": [],
   "source": [
    "from oemof.solph.components import GenericStorage as Storage\n",
    "\n",
    "charging_power = 20\n",
    "bev_battery_cap = 50\n",
    "\n",
    "# add mobility bus\n",
    "b_bev = Bus(label=\"b_bev\",\n",
    "            balanced=True)\n",
    "energysystem.add(b_bev)\n",
    "\n",
    "# add transformer to transport electricity from grid to mobility sector\n",
    "energysystem.add(Transformer(label=\"transport_el_bev\",\n",
    "                             inputs={b_el: Flow()},\n",
    "                             outputs={b_bev: Flow(variable_costs=10,\n",
    "                                                  nominal_value=charging_power,\n",
    "                                                  max=data['bev_charging_power'])},\n",
    "                             conversion_factors={b_bev: 1.0}))\n",
    "    \n",
    "# add BEV storage\n",
    "energysystem.add(Storage(label='bev_storage',\n",
    "                 inputs={b_bev: Flow()},\n",
    "                 outputs={b_bev: Flow()},\n",
    "                 nominal_capacity=bev_battery_cap,\n",
    "                 capacity_min=data['bev_cap_min'],\n",
    "                 capacity_max=data['bev_cap_max'],\n",
    "                 capacity_loss=0.00,\n",
    "                 initial_capacity=None,\n",
    "                 inflow_conversion_factor=1.0,\n",
    "                 outflow_conversion_factor=1.0,\n",
    "                 nominal_input_capacity_ratio=1.0,\n",
    "                 nominal_output_capacity_ratio=1.0))\n",
    "\n",
    "# add sink for leaving vehicles\n",
    "energysystem.add(Sink(label=\"leaving_bev\",\n",
    "                      inputs={b_bev: Flow(nominal_value=bev_battery_cap,\n",
    "                                          actual_value=data['bev_sink'],\n",
    "                                          fixed=True)}))\n",
    "\n",
    "# add source for returning vehicles\n",
    "energysystem.add(Source(label=\"returning_bev\",\n",
    "                        outputs={b_bev: Flow(nominal_value=bev_battery_cap,\n",
    "                                             actual_value=data['bev_source'],\n",
    "                                             fixed=True)}));"
   ]
  },
  {
   "cell_type": "code",
   "execution_count": null,
   "metadata": {
    "collapsed": true
   },
   "outputs": [],
   "source": [
    "om = optimize(energysystem)\n",
    "plot(om, 'b_bev')"
   ]
  },
  {
   "cell_type": "code",
   "execution_count": null,
   "metadata": {
    "collapsed": true
   },
   "outputs": [],
   "source": [
    "plot(om, 'b_el')"
   ]
  },
  {
   "cell_type": "code",
   "execution_count": null,
   "metadata": {
    "collapsed": true
   },
   "outputs": [],
   "source": []
  }
 ],
 "metadata": {
  "kernelspec": {
   "display_name": "Python 3",
   "language": "python",
   "name": "python3"
  },
  "language_info": {
   "codemirror_mode": {
    "name": "ipython",
    "version": 3
   },
   "file_extension": ".py",
   "mimetype": "text/x-python",
   "name": "python",
   "nbconvert_exporter": "python",
   "pygments_lexer": "ipython3",
   "version": "3.5.2"
  }
 },
 "nbformat": 4,
 "nbformat_minor": 2
}
